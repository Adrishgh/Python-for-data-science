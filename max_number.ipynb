{
 "cells": [
  {
   "cell_type": "code",
   "execution_count": null,
   "id": "74c699e2",
   "metadata": {},
   "outputs": [],
   "source": [
    "#Write a Python program to find the largest number from a list using loop.\n",
    "#Input:- [10,100,2321, 1,200,2]\n",
    "#Output:- 2321\n",
    "\n",
    "#Using for loop\n",
    "lst = [10,100,2321, 1,200,2]\n",
    "max_num = lst[0]\n",
    "for num in lst:\n",
    "  if num > max_num:\n",
    "    max_num = num\n",
    "print('Maximum number in the list is', max_num)\n",
    "print(\"*******\")\n",
    "#recording the 1st element of the list as max number\n",
    "#iterating over the loop using num variable comparing the variable everytime with the max number \n",
    "#and the greater number is recorded in max number finally the greater number of the loop gets printed\n",
    "# Using for loop - alternate way\n",
    "lst = [10,100,2321, 1,200,2]\n",
    "max_num = lst[0]\n",
    "for ind in range(len(lst)):\n",
    "  if lst[ind] > max_num:\n",
    "    max_num = lst[ind]\n",
    "print('Maximum number in the list is', max_num)\n",
    "print(\"*******\")\n",
    "#same as above only the index function is used to iterate\n",
    "# Using while loop\n",
    "lst = [10,100,2321, 1,200,2]\n",
    "max_num = lst[0]\n",
    "ind = 0\n",
    "while ind < len(lst):\n",
    "  if lst[ind] > max_num:\n",
    "    max_num = lst[ind]\n",
    "  ind += 1\n",
    "print('Maximum number in the list is', max_num)\n",
    "print(\"*******\")\n",
    "#iterrating over the loop using while loop and using index as ind\n",
    "# Using builtin functions\n",
    "lst = [10,100,2321, 1,200,2]\n",
    "print('Maximum number in the list is', max(lst))\n",
    "print(\"*******\")\n",
    "\n",
    "# Using reduce function\n",
    "from functools import reduce\n",
    "lst = [10,100,2321, 1,200,2]\n",
    "print('Maximum number in the list is',reduce(lambda num1, num2:num1 if num1>num2 else num2, lst))\n",
    "\n",
    "#using functools and lambda function logic used to get the greater number and get the greater value\n"
   ]
  }
 ],
 "metadata": {
  "kernelspec": {
   "display_name": "Python 3 (ipykernel)",
   "language": "python",
   "name": "python3"
  },
  "language_info": {
   "codemirror_mode": {
    "name": "ipython",
    "version": 3
   },
   "file_extension": ".py",
   "mimetype": "text/x-python",
   "name": "python",
   "nbconvert_exporter": "python",
   "pygments_lexer": "ipython3",
   "version": "3.9.12"
  }
 },
 "nbformat": 4,
 "nbformat_minor": 5
}
