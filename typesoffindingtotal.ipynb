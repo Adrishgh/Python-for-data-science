{
 "cells": [
  {
   "cell_type": "code",
   "execution_count": null,
   "id": "d390912a",
   "metadata": {},
   "outputs": [],
   "source": [
    "#Write a Python program to find the sum of all elements in a list using loop.\n",
    "#Input:- [10,20,30,40]\n",
    "#Output:- 100\n",
    "\n",
    "# Using for Loop\n",
    "lst = [10,20,30,40]\n",
    "total = 0\n",
    "for i in range(len(lst)):\n",
    "  total += lst[i]\n",
    "print('Sum of all elements inside the given list is', total)\n",
    "\n",
    "\n",
    "print(\"*******\")\n",
    "#Alternate way using for loop\n",
    "lst = [10,20,30,40]\n",
    "total = 0\n",
    "for i in lst:\n",
    "  total += i\n",
    "print('Sum of all elements inside the given list is', total)\n",
    "\n",
    "print(\"*******\")\n",
    "\n",
    "# Using while loop\n",
    "lst = [10,20,30,40]\n",
    "total = 0\n",
    "ind = 0\n",
    "while ind < len(lst):\n",
    "  total += lst[ind]\n",
    "  ind += 1\n",
    "print('Sum of all elements inside the given list is', total)\n",
    "print(\"*******\")\n",
    "\n",
    "# Using builtin function\n",
    "lst = [10,20,30,40]\n",
    "print('Sum of all elements inside the given list is', sum(lst))\n",
    "print(\"*******\")\n",
    "\n",
    "# Using reduce Function\n",
    "from functools import reduce\n",
    "lst = [10,20,30,40]\n",
    "print('Sum of all elements inside the given list is',reduce(lambda num1, num2:num1+num2, lst))"
   ]
  }
 ],
 "metadata": {
  "kernelspec": {
   "display_name": "Python 3 (ipykernel)",
   "language": "python",
   "name": "python3"
  },
  "language_info": {
   "codemirror_mode": {
    "name": "ipython",
    "version": 3
   },
   "file_extension": ".py",
   "mimetype": "text/x-python",
   "name": "python",
   "nbconvert_exporter": "python",
   "pygments_lexer": "ipython3",
   "version": "3.9.12"
  }
 },
 "nbformat": 4,
 "nbformat_minor": 5
}
