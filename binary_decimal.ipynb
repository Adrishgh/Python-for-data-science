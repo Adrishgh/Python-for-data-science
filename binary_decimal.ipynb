{
 "cells": [
  {
   "cell_type": "code",
   "execution_count": 1,
   "id": "09132099",
   "metadata": {},
   "outputs": [],
   "source": [
    "def PrimeMover(num):\n",
    "    def is_prime(n):\n",
    "        if n < 2:\n",
    "            return False\n",
    "        for i in range(2, int(n**0.5) + 1):\n",
    "            if n % i == 0:\n",
    "                return False\n",
    "        return True\n",
    "\n",
    "    count = 0\n",
    "    candidate = 2\n",
    "\n",
    "    while count < num:\n",
    "        if is_prime(candidate):\n",
    "            count += 1\n",
    "            if count == num:\n",
    "                return candidate\n",
    "        candidate += 1\n",
    "\n",
    "    return -1  # If no prime number is found within the range"
   ]
  },
  {
   "cell_type": "code",
   "execution_count": null,
   "id": "9d47a604",
   "metadata": {},
   "outputs": [],
   "source": []
  }
 ],
 "metadata": {
  "kernelspec": {
   "display_name": "Python 3 (ipykernel)",
   "language": "python",
   "name": "python3"
  },
  "language_info": {
   "codemirror_mode": {
    "name": "ipython",
    "version": 3
   },
   "file_extension": ".py",
   "mimetype": "text/x-python",
   "name": "python",
   "nbconvert_exporter": "python",
   "pygments_lexer": "ipython3",
   "version": "3.9.12"
  }
 },
 "nbformat": 4,
 "nbformat_minor": 5
}
