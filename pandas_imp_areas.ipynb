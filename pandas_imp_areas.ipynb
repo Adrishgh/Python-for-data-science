{
 "cells": [
  {
   "cell_type": "code",
   "execution_count": 2,
   "id": "f5db8ecb",
   "metadata": {},
   "outputs": [
    {
     "name": "stdout",
     "output_type": "stream",
     "text": [
      "<class 'pandas.core.series.Series'>\n",
      "0    1\n",
      "1    2\n",
      "2    3\n",
      "3    4\n",
      "4    5\n",
      "dtype: int64\n"
     ]
    }
   ],
   "source": [
    "# Write a Python program to create and display a onedimensional array-like object containing an array of data using\n",
    "# Pandas module.\n",
    "\n",
    "import pandas as pd\n",
    "arr1 = pd.Series([1,2,3,4,5])\n",
    "print(type(arr1))\n",
    "print(arr1)"
   ]
  },
  {
   "cell_type": "code",
   "execution_count": 4,
   "id": "e3f491d3",
   "metadata": {},
   "outputs": [
    {
     "name": "stdout",
     "output_type": "stream",
     "text": [
      "<class 'pandas.core.series.Series'>\n",
      "0    1\n",
      "1    2\n",
      "2    3\n",
      "3    4\n",
      "4    5\n",
      "dtype: int64\n",
      "<class 'list'>\n"
     ]
    }
   ],
   "source": [
    "# Write a Python program to convert a Panda module Series to Python list and its type\n",
    "\n",
    "arr1 = pd.Series([1,2,3,4,5])\n",
    "print(type(arr1))\n",
    "print(arr1)\n",
    "\n",
    "list1 = arr1.tolist()\n",
    "print(type(list1))\n"
   ]
  },
  {
   "cell_type": "code",
   "execution_count": 10,
   "id": "73a9006a",
   "metadata": {},
   "outputs": [
    {
     "name": "stdout",
     "output_type": "stream",
     "text": [
      "Add:\n",
      "0     7\n",
      "1     9\n",
      "2    11\n",
      "3    13\n",
      "4    10\n",
      "dtype: int64\n",
      "\n",
      "Substract:\n",
      "0   -5\n",
      "1   -5\n",
      "2   -5\n",
      "3   -5\n",
      "4    0\n",
      "dtype: int64\n",
      "\n",
      "Multiply:\n",
      "0     6\n",
      "1    14\n",
      "2    24\n",
      "3    36\n",
      "4    25\n",
      "dtype: int64\n",
      "\n",
      "Divide:\n",
      "0    0.166667\n",
      "1    0.285714\n",
      "2    0.375000\n",
      "3    0.444444\n",
      "4    1.000000\n",
      "dtype: float64\n"
     ]
    }
   ],
   "source": [
    "# Write a Python program to add, subtract, multiple and divide two Pandas Series\n",
    "\n",
    "s1 = pd.Series([1,2,3,4,5])\n",
    "s2 = pd.Series([6,7,8,9,5])\n",
    "\n",
    "add_series = s1 + s2\n",
    "sub_series = s1 - s2\n",
    "mul_series = s1 * s2\n",
    "div_series = s1 / s2\n",
    "\n",
    "print(f'Add:\\n{add_series}\\n\\nSubstract:\\n{sub_series}\\n\\nMultiply:\\n{mul_series}\\n\\nDivide:\\n{div_series}')\n"
   ]
  },
  {
   "cell_type": "code",
   "execution_count": 36,
   "id": "c24ddd82",
   "metadata": {},
   "outputs": [
    {
     "name": "stdout",
     "output_type": "stream",
     "text": [
      "s1 greater than s2:\n",
      "0    False\n",
      "1    False\n",
      "2    False\n",
      "3    False\n",
      "4    False\n",
      "dtype: bool\n",
      "\n",
      "s1 less than s2:\n",
      "0    True\n",
      "1    True\n",
      "2    True\n",
      "3    True\n",
      "4    True\n",
      "dtype: bool\n",
      "\n",
      "s1 equal to s2:\n",
      "0    False\n",
      "1    False\n",
      "2    False\n",
      "3    False\n",
      "4    False\n",
      "dtype: bool\n",
      "\n",
      "s1 not equal to s2:\n",
      "0    True\n",
      "1    True\n",
      "2    True\n",
      "3    True\n",
      "4    True\n",
      "dtype: bool\n",
      "\n"
     ]
    }
   ],
   "source": [
    "# Write a Python program to compare the elements of the two Pandas Series.\n",
    "\n",
    "\n",
    "s1 = pd.Series([1,2,3,4,5])\n",
    "s2 = pd.Series([9,6,5,7,8])\n",
    "\n",
    "print(f's1 greater than s2:\\n{s1 > s2}\\n')\n",
    "print(f's1 less than s2:\\n{s1 < s2}\\n')\n",
    "print(f's1 equal to s2:\\n{s1 == s2}\\n')\n",
    "print(f's1 not equal to s2:\\n{s1 != s2}\\n')\n"
   ]
  },
  {
   "cell_type": "code",
   "execution_count": 67,
   "id": "7df91aee",
   "metadata": {},
   "outputs": [
    {
     "data": {
      "text/html": [
       "<div>\n",
       "<style scoped>\n",
       "    .dataframe tbody tr th:only-of-type {\n",
       "        vertical-align: middle;\n",
       "    }\n",
       "\n",
       "    .dataframe tbody tr th {\n",
       "        vertical-align: top;\n",
       "    }\n",
       "\n",
       "    .dataframe thead th {\n",
       "        text-align: right;\n",
       "    }\n",
       "</style>\n",
       "<table border=\"1\" class=\"dataframe\">\n",
       "  <thead>\n",
       "    <tr style=\"text-align: right;\">\n",
       "      <th></th>\n",
       "      <th>Name</th>\n",
       "      <th>Matches</th>\n",
       "      <th>Runs</th>\n",
       "    </tr>\n",
       "  </thead>\n",
       "  <tbody>\n",
       "    <tr>\n",
       "      <th>a</th>\n",
       "      <td>Sachin</td>\n",
       "      <td>484</td>\n",
       "      <td>14000</td>\n",
       "    </tr>\n",
       "    <tr>\n",
       "      <th>b</th>\n",
       "      <td>Ganguly</td>\n",
       "      <td>350</td>\n",
       "      <td>11000</td>\n",
       "    </tr>\n",
       "    <tr>\n",
       "      <th>c</th>\n",
       "      <td>Dravid</td>\n",
       "      <td>390</td>\n",
       "      <td>12000</td>\n",
       "    </tr>\n",
       "  </tbody>\n",
       "</table>\n",
       "</div>"
      ],
      "text/plain": [
       "      Name  Matches   Runs\n",
       "a   Sachin      484  14000\n",
       "b  Ganguly      350  11000\n",
       "c   Dravid      390  12000"
      ]
     },
     "execution_count": 67,
     "metadata": {},
     "output_type": "execute_result"
    }
   ],
   "source": [
    "# Write a Python program to create and display a Data Frame from a specified dictionary data which has the index labels.\n",
    "\n",
    "player_details = {'Name':['Sachin', 'Ganguly', 'Dravid'],\n",
    "                  'Matches':[484,350,390],\n",
    "                  'Runs':[14000,11000,12000]}\n",
    "labels = ['a','b','c']\n",
    "\n",
    "p_details = pd.DataFrame(player_details, index = labels)\n",
    "p_details\n"
   ]
  },
  {
   "cell_type": "code",
   "execution_count": 69,
   "id": "86dd9cb4",
   "metadata": {},
   "outputs": [
    {
     "data": {
      "text/html": [
       "<div>\n",
       "<style scoped>\n",
       "    .dataframe tbody tr th:only-of-type {\n",
       "        vertical-align: middle;\n",
       "    }\n",
       "\n",
       "    .dataframe tbody tr th {\n",
       "        vertical-align: top;\n",
       "    }\n",
       "\n",
       "    .dataframe thead th {\n",
       "        text-align: right;\n",
       "    }\n",
       "</style>\n",
       "<table border=\"1\" class=\"dataframe\">\n",
       "  <thead>\n",
       "    <tr style=\"text-align: right;\">\n",
       "      <th></th>\n",
       "      <th>Matches</th>\n",
       "      <th>Runs</th>\n",
       "    </tr>\n",
       "  </thead>\n",
       "  <tbody>\n",
       "    <tr>\n",
       "      <th>a</th>\n",
       "      <td>484</td>\n",
       "      <td>14000</td>\n",
       "    </tr>\n",
       "    <tr>\n",
       "      <th>b</th>\n",
       "      <td>350</td>\n",
       "      <td>11000</td>\n",
       "    </tr>\n",
       "  </tbody>\n",
       "</table>\n",
       "</div>"
      ],
      "text/plain": [
       "   Matches   Runs\n",
       "a      484  14000\n",
       "b      350  11000"
      ]
     },
     "execution_count": 69,
     "metadata": {},
     "output_type": "execute_result"
    }
   ],
   "source": [
    "# Write a Python program to select the specified columns and rows from a given Data Frame.\n",
    "# 1st method (using .loc)\n",
    "\n",
    "p_details.loc['a':'b','Matches':'Runs']"
   ]
  },
  {
   "cell_type": "code",
   "execution_count": 70,
   "id": "a8878c1f",
   "metadata": {},
   "outputs": [
    {
     "data": {
      "text/html": [
       "<div>\n",
       "<style scoped>\n",
       "    .dataframe tbody tr th:only-of-type {\n",
       "        vertical-align: middle;\n",
       "    }\n",
       "\n",
       "    .dataframe tbody tr th {\n",
       "        vertical-align: top;\n",
       "    }\n",
       "\n",
       "    .dataframe thead th {\n",
       "        text-align: right;\n",
       "    }\n",
       "</style>\n",
       "<table border=\"1\" class=\"dataframe\">\n",
       "  <thead>\n",
       "    <tr style=\"text-align: right;\">\n",
       "      <th></th>\n",
       "      <th>Matches</th>\n",
       "      <th>Runs</th>\n",
       "    </tr>\n",
       "  </thead>\n",
       "  <tbody>\n",
       "    <tr>\n",
       "      <th>a</th>\n",
       "      <td>484</td>\n",
       "      <td>14000</td>\n",
       "    </tr>\n",
       "    <tr>\n",
       "      <th>b</th>\n",
       "      <td>350</td>\n",
       "      <td>11000</td>\n",
       "    </tr>\n",
       "  </tbody>\n",
       "</table>\n",
       "</div>"
      ],
      "text/plain": [
       "   Matches   Runs\n",
       "a      484  14000\n",
       "b      350  11000"
      ]
     },
     "execution_count": 70,
     "metadata": {},
     "output_type": "execute_result"
    }
   ],
   "source": [
    "# 2nd method\n",
    "p_details.loc[['a','b'], ['Matches','Runs']]"
   ]
  },
  {
   "cell_type": "code",
   "execution_count": 75,
   "id": "8916d262",
   "metadata": {},
   "outputs": [
    {
     "data": {
      "text/html": [
       "<div>\n",
       "<style scoped>\n",
       "    .dataframe tbody tr th:only-of-type {\n",
       "        vertical-align: middle;\n",
       "    }\n",
       "\n",
       "    .dataframe tbody tr th {\n",
       "        vertical-align: top;\n",
       "    }\n",
       "\n",
       "    .dataframe thead th {\n",
       "        text-align: right;\n",
       "    }\n",
       "</style>\n",
       "<table border=\"1\" class=\"dataframe\">\n",
       "  <thead>\n",
       "    <tr style=\"text-align: right;\">\n",
       "      <th></th>\n",
       "      <th>Matches</th>\n",
       "      <th>Runs</th>\n",
       "    </tr>\n",
       "  </thead>\n",
       "  <tbody>\n",
       "    <tr>\n",
       "      <th>a</th>\n",
       "      <td>484</td>\n",
       "      <td>14000</td>\n",
       "    </tr>\n",
       "    <tr>\n",
       "      <th>b</th>\n",
       "      <td>350</td>\n",
       "      <td>11000</td>\n",
       "    </tr>\n",
       "  </tbody>\n",
       "</table>\n",
       "</div>"
      ],
      "text/plain": [
       "   Matches   Runs\n",
       "a      484  14000\n",
       "b      350  11000"
      ]
     },
     "execution_count": 75,
     "metadata": {},
     "output_type": "execute_result"
    }
   ],
   "source": [
    "# 3rd method(using.iloc)\n",
    "\n",
    "p_details.iloc[0:2, 1:3]"
   ]
  },
  {
   "cell_type": "code",
   "execution_count": 99,
   "id": "b4299c4c",
   "metadata": {},
   "outputs": [
    {
     "name": "stdout",
     "output_type": "stream",
     "text": [
      "    Name  Attempts  Score\n",
      "d  David         2     19\n",
      "e  Jerry         1     16\n",
      "\n",
      "\n",
      "    Name  Attempts  Score\n",
      "d  David         2     19\n",
      "e  Jerry         1     16\n"
     ]
    }
   ],
   "source": [
    "# Write a Python program to select the rows the score is between 15 and 20 (inclusive).\n",
    "\n",
    "candidate_details = {'Name':['Adam','Tom','Luther','David','Jerry'],\n",
    "           'Attempts':[1,1,3,2,1],\n",
    "           'Score':[25,10,30,19,16]}\n",
    "candidate_details = pd.DataFrame(candidate_details, index=['a','b','c','d','e'])\n",
    "\n",
    "candidate_details\n",
    "\n",
    "# 1st method\n",
    "print(candidate_details[(candidate_details.Score > 15) & (candidate_details.Score <= 20)])\n",
    "\n",
    "print('\\n')\n",
    "# 2nd method\n",
    "\n",
    "print(candidate_details[candidate_details['Score'].between(15, 20)])"
   ]
  },
  {
   "cell_type": "code",
   "execution_count": 90,
   "id": "0b75088f",
   "metadata": {},
   "outputs": [
    {
     "name": "stdout",
     "output_type": "stream",
     "text": [
      "    Name  Attempts  Score\n",
      "a   Adam         1     25\n",
      "e  Jerry         1     16\n"
     ]
    }
   ],
   "source": [
    "# Write a Python program to select the rows where number of attempts in the examination is less \n",
    "# than 2 and score greater than 15\n",
    "\n",
    "candidate_details = {'Name':['Adam','Tom','Luther','David','Jerry'],\n",
    "           'Attempts':[1,1,3,2,1],\n",
    "           'Score':[25,10,30,19,16]}\n",
    "candidate_details = pd.DataFrame(candidate_details, index=['a','b','c','d','e'])\n",
    "\n",
    "print(candidate_details[(candidate_details['Attempts'] < 2) & (candidate_details['Score'] > 15)])"
   ]
  },
  {
   "cell_type": "code",
   "execution_count": 98,
   "id": "4b79e765",
   "metadata": {},
   "outputs": [
    {
     "name": "stdout",
     "output_type": "stream",
     "text": [
      "     Name  Attempts  Score\n",
      "a    Adam         1     25\n",
      "b     Tom         1     10\n",
      "c  Luther         3     30\n",
      "d   David         2     19\n",
      "e   Jerry         1     16\n",
      "k   Rahul         2     32\n",
      "\n",
      "\n",
      "     Name  Attempts  Score\n",
      "a    Adam         1     25\n",
      "b     Tom         1     10\n",
      "c  Luther         3     30\n",
      "d   David         2     19\n",
      "e   Jerry         1     16\n"
     ]
    }
   ],
   "source": [
    "# Write a Python program to append a new row 'k' to Data Frame with given values for each column.\n",
    "# Now delete the new row and return the original data frame.\n",
    "\n",
    "candidate_details = {'Name':['Adam','Tom','Luther','David','Jerry'],\n",
    "           'Attempts':[1,1,3,2,1],\n",
    "           'Score':[25,10,30,19,16]}\n",
    "candidate_details = pd.DataFrame(candidate_details, index=['a','b','c','d','e'])\n",
    "candidate_details.loc['k'] = ['Rahul', 2, 32]\n",
    "print(candidate_details)\n",
    "\n",
    "print('\\n')\n",
    "\n",
    "# Let remove the added row 'k'\n",
    "candidate_details.drop('k', axis=0, inplace=True)\n",
    "print(candidate_details)\n"
   ]
  },
  {
   "cell_type": "code",
   "execution_count": 105,
   "id": "5968ef85",
   "metadata": {},
   "outputs": [
    {
     "name": "stdout",
     "output_type": "stream",
     "text": [
      "     Name  Attempts  Score\n",
      "a    Adam         1     25\n",
      "b     Tom         1     10\n",
      "c  Luther         3     30\n",
      "d   David         2     19\n",
      "e   Jerry         1     16\n",
      "\n",
      "     Name  Attempts  Score\n",
      "a    Adam         1     25\n",
      "b     Tom         1     10\n",
      "c  Luther         3     30\n",
      "d   David         2     19\n",
      "e   Jerry         1     16\n"
     ]
    }
   ],
   "source": [
    "# Write a Python program to sort the data frame first by 'name' in descending order, then by 'score' in ascending order.\n",
    "\n",
    "\n",
    "candidate_details = {'Name':['Adam','Tom','Luther','David','Jerry'],\n",
    "           'Attempts':[1,1,3,2,1],\n",
    "           'Score':[25,10,30,19,16]}\n",
    "candidate_details = pd.DataFrame(candidate_details, index=['a','b','c','d','e'])\n",
    "print(f'{candidate_details}\\n')\n",
    "\n",
    "## After sorting\n",
    "\n",
    "candidate_details.sort_values(by=['Name', 'Score'], ascending=[False, True])\n",
    "print(candidate_details)"
   ]
  },
  {
   "cell_type": "code",
   "execution_count": 108,
   "id": "58bf0f90",
   "metadata": {},
   "outputs": [
    {
     "name": "stdout",
     "output_type": "stream",
     "text": [
      "     Name  Attempts  Score\n",
      "a    Adam         1     25\n",
      "b     Tom         1     10\n",
      "c  Luther         3     30\n",
      "d   David         2     19\n",
      "e   Jerry         1     16\n",
      "\n",
      "     Name  Attempts  Score  Age\n",
      "a    Adam         1     25   22\n",
      "b     Tom         1     10   25\n",
      "c  Luther         3     30   27\n",
      "d   David         2     19   18\n",
      "e   Jerry         1     16   24\n"
     ]
    }
   ],
   "source": [
    "# Write a Python program to insert a new column in existing Data Frame.\n",
    "\n",
    "\n",
    "candidate_details = {'Name':['Adam','Tom','Luther','David','Jerry'],\n",
    "           'Attempts':[1,1,3,2,1],\n",
    "           'Score':[25,10,30,19,16]}\n",
    "candidate_details = pd.DataFrame(candidate_details, index=['a','b','c','d','e'])\n",
    "print(f'{candidate_details}\\n')\n",
    "\n",
    "\n",
    "# After adding new column 'Age'\n",
    "candidate_details['Age'] = [22,25,27,18,24]\n",
    "print(candidate_details)\n"
   ]
  },
  {
   "cell_type": "code",
   "execution_count": 110,
   "id": "4d4446e3",
   "metadata": {},
   "outputs": [
    {
     "name": "stdout",
     "output_type": "stream",
     "text": [
      "     Name  Attempts  Score  Age\n",
      "a   James         1     25   22\n",
      "b     Tom         1     10   25\n",
      "c  Luther         3     30   27\n",
      "d   David         2     19   18\n",
      "e   Jerry         1     16   24\n"
     ]
    }
   ],
   "source": [
    "# Write a Python program to change the name 'Adam' to 'James' in name column of the data frame.\n",
    "\n",
    "candidate_details.Name.replace('Adam','James',inplace=True)\n",
    "print(candidate_details)"
   ]
  },
  {
   "cell_type": "code",
   "execution_count": null,
   "id": "262b21ed",
   "metadata": {},
   "outputs": [],
   "source": []
  }
 ],
 "metadata": {
  "kernelspec": {
   "display_name": "Python 3 (ipykernel)",
   "language": "python",
   "name": "python3"
  },
  "language_info": {
   "codemirror_mode": {
    "name": "ipython",
    "version": 3
   },
   "file_extension": ".py",
   "mimetype": "text/x-python",
   "name": "python",
   "nbconvert_exporter": "python",
   "pygments_lexer": "ipython3",
   "version": "3.9.12"
  }
 },
 "nbformat": 4,
 "nbformat_minor": 5
}
